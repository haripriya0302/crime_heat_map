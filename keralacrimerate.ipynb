{
  "nbformat": 4,
  "nbformat_minor": 0,
  "metadata": {
    "colab": {
      "provenance": [],
      "gpuType": "T4"
    },
    "kernelspec": {
      "name": "python3",
      "display_name": "Python 3"
    },
    "language_info": {
      "name": "python"
    },
    "accelerator": "GPU"
  },
  "cells": [
    {
      "cell_type": "code",
      "execution_count": null,
      "metadata": {
        "colab": {
          "base_uri": "https://localhost:8080/"
        },
        "id": "pwzCuWbo2Z7y",
        "outputId": "71b8bbcf-aaa9-4495-d5f4-3e25ab23f6c8"
      },
      "outputs": [
        {
          "output_type": "stream",
          "name": "stdout",
          "text": [
            "Requirement already satisfied: folium in /usr/local/lib/python3.10/dist-packages (0.14.0)\n",
            "Requirement already satisfied: pandas in /usr/local/lib/python3.10/dist-packages (1.5.3)\n",
            "Requirement already satisfied: branca>=0.6.0 in /usr/local/lib/python3.10/dist-packages (from folium) (0.7.0)\n",
            "Requirement already satisfied: jinja2>=2.9 in /usr/local/lib/python3.10/dist-packages (from folium) (3.1.3)\n",
            "Requirement already satisfied: numpy in /usr/local/lib/python3.10/dist-packages (from folium) (1.23.5)\n",
            "Requirement already satisfied: requests in /usr/local/lib/python3.10/dist-packages (from folium) (2.31.0)\n",
            "Requirement already satisfied: python-dateutil>=2.8.1 in /usr/local/lib/python3.10/dist-packages (from pandas) (2.8.2)\n",
            "Requirement already satisfied: pytz>=2020.1 in /usr/local/lib/python3.10/dist-packages (from pandas) (2023.3.post1)\n",
            "Requirement already satisfied: MarkupSafe>=2.0 in /usr/local/lib/python3.10/dist-packages (from jinja2>=2.9->folium) (2.1.4)\n",
            "Requirement already satisfied: six>=1.5 in /usr/local/lib/python3.10/dist-packages (from python-dateutil>=2.8.1->pandas) (1.16.0)\n",
            "Requirement already satisfied: charset-normalizer<4,>=2 in /usr/local/lib/python3.10/dist-packages (from requests->folium) (3.3.2)\n",
            "Requirement already satisfied: idna<4,>=2.5 in /usr/local/lib/python3.10/dist-packages (from requests->folium) (3.6)\n",
            "Requirement already satisfied: urllib3<3,>=1.21.1 in /usr/local/lib/python3.10/dist-packages (from requests->folium) (2.0.7)\n",
            "Requirement already satisfied: certifi>=2017.4.17 in /usr/local/lib/python3.10/dist-packages (from requests->folium) (2023.11.17)\n"
          ]
        }
      ],
      "source": [
        "pip install folium pandas\n"
      ]
    },
    {
      "cell_type": "code",
      "source": [
        "import folium\n",
        "import pandas as pd"
      ],
      "metadata": {
        "id": "AlDWkf9l2pXU"
      },
      "execution_count": null,
      "outputs": []
    },
    {
      "cell_type": "code",
      "source": [
        "csv_file_path = '/content/kerala criminal cases  - POSCO ACTS(district wise).csv'\n",
        "df = pd.read_csv(csv_file_path)\n"
      ],
      "metadata": {
        "id": "v1CH-A-A2t3A"
      },
      "execution_count": null,
      "outputs": []
    },
    {
      "cell_type": "code",
      "source": [
        "kerala_map = folium.Map(location=[10.8505, 76.2711], zoom_start=8)"
      ],
      "metadata": {
        "id": "_Bzy3r_N26hF"
      },
      "execution_count": null,
      "outputs": []
    },
    {
      "cell_type": "code",
      "source": [
        "def get_color(severity):\n",
        "    if severity >= 200:\n",
        "        return 'red'\n",
        "    elif severity >= 150:\n",
        "        return 'orange'\n",
        "    else:\n",
        "        return 'green'"
      ],
      "metadata": {
        "id": "FdZOENgn3owv"
      },
      "execution_count": null,
      "outputs": []
    },
    {
      "cell_type": "code",
      "source": [
        "for index, row in df.iterrows():\n",
        "    district = row[0]  # Assuming the first column is for district names\n",
        "    latitude = float(row[1])  # Assuming the second column is for latitude\n",
        "    longitude = float(row[2])  # Assuming the third column is for longitude\n",
        "    crime_severity = row[7]"
      ],
      "metadata": {
        "id": "bjE6r6Q63-WM"
      },
      "execution_count": null,
      "outputs": []
    },
    {
      "cell_type": "code",
      "source": [
        "color = get_color(crime_severity)"
      ],
      "metadata": {
        "id": "1tm2Sn4m3_iM"
      },
      "execution_count": null,
      "outputs": []
    },
    {
      "cell_type": "code",
      "source": [
        " folium.CircleMarker(\n",
        "        location=[latitude, longitude],\n",
        "        radius=8,\n",
        "        color=color,\n",
        "        fill=True,\n",
        "        fill_color=color,\n",
        "        fill_opacity=0.7,\n",
        "        popup=f\"District: {district}\\nCrime Severity: {crime_severity}\"\n",
        "    ).add_to(kerala_map)"
      ],
      "metadata": {
        "colab": {
          "base_uri": "https://localhost:8080/"
        },
        "id": "JtYTEbut4COu",
        "outputId": "6c4c3fad-4f24-4ce0-a80f-4e828eaa7b0f"
      },
      "execution_count": null,
      "outputs": [
        {
          "output_type": "execute_result",
          "data": {
            "text/plain": [
              "<folium.vector_layers.CircleMarker at 0x79ef002a8100>"
            ]
          },
          "metadata": {},
          "execution_count": 13
        }
      ]
    },
    {
      "cell_type": "code",
      "source": [
        "kerala_map.save('crime_heatmap.html')"
      ],
      "metadata": {
        "id": "mONx1CC04IOP"
      },
      "execution_count": null,
      "outputs": []
    }
  ]
}